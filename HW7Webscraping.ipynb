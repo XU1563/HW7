{
 "cells": [
  {
   "cell_type": "markdown",
   "metadata": {},
   "source": [
    "# Data-X Spring 2019: Homework 7\n",
    "\n",
    "### Webscraping\n",
    "\n",
    "\n",
    "\n",
    "In this homework, you will do some exercises with web-scraping."
   ]
  },
  {
   "cell_type": "markdown",
   "metadata": {},
   "source": [
    "## Name: Zihui Xu\n",
    "\n",
    "## SID: 3034305174\n",
    "\n"
   ]
  },
  {
   "cell_type": "markdown",
   "metadata": {},
   "source": [
    "### Fun with Webscraping & Text manipulation\n"
   ]
  },
  {
   "cell_type": "markdown",
   "metadata": {
    "collapsed": true
   },
   "source": [
    "## 1. Statistics in Presidential Debates\n",
    "\n",
    "Your first task is to scrape Presidential Debates from the Commission of Presidential Debates website: https://www.debates.org/voter-education/debate-transcripts/\n",
    "\n",
    "To do this, you are not allowed to manually look up the URLs that you need, instead you have to scrape them. The root url to be scraped is the one listed above, namely: https://www.debates.org/voter-education/debate-transcripts/\n",
    "\n",
    "\n",
    "1. By using `requests` and `BeautifulSoup` find all the links / URLs on the website that links to transcriptions of **First Presidential Debates** from the years [1988, 1984, 1976, 1960]. In total you should find 4 links / URLs that fulfill this criteria. **Print the urls.**\n",
    "\n",
    "2. When you have a list of the URLs your task is to create a Data Frame with some statistics (see example of output below):\n",
    "    1. Scrape the title of each link and use that as the column name in your Data Frame. \n",
    "    2. Count how long the transcript of the debate is (as in the number of characters in transcription string). Feel free to include `\\` characters in your count, but remove any breakline characters, i.e. `\\n`. You will get credit if your count is +/- 10% from our result.\n",
    "    3. Count how many times the word **war** was used in the different debates. Note that you have to convert the text in a smart way (to not count the word **warranty** for example, but counting **war.**, **war!**, **war,** or **War** etc.\n",
    "    4. Also scrape the most common used word in the debate, and write how many times it was used. Note that you have to use the same strategy as in C in order to do this.\n",
    "    \n",
    "    **Print your final output result.**\n",
    "    \n",
    "**Tips:**\n",
    "\n",
    "___\n",
    "\n",
    "In order to solve the questions above, it can be useful to work with Regular Expressions and explore methods on strings like `.strip(), .replace(), .find(), .count(), .lower()` etc. Both are very powerful tools to do string processing in Python. To count common words for example I used a `Counter` object and a Regular expression pattern for only words, see example:\n",
    "\n",
    "```python\n",
    "    from collections import Counter\n",
    "    import re\n",
    "\n",
    "    counts = Counter(re.findall(r\"[\\w']+\", text.lower()))\n",
    "```\n",
    "\n",
    "Read more about Regular Expressions here: https://docs.python.org/3/howto/regex.html\n",
    "    \n",
    "    \n",
    "**Example output of all of the answers to Question 1.2:**\n",
    "\n",
    "\n",
    "![pres_stats_2](https://github.com/ikhlaqsidhu/data-x/raw/master/x-archive/misc/hw2_imgs_spring2018/presidents_stats_2.jpg)\n",
    "\n",
    "\n",
    "\n",
    "----\n",
    "\n",
    ".\n",
    "\n",
    "\n"
   ]
  },
  {
   "cell_type": "code",
   "execution_count": 1,
   "metadata": {},
   "outputs": [
    {
     "name": "stdout",
     "output_type": "stream",
     "text": [
      "/voter-education/debate-transcripts/october-15-1992-first-half-debate-transcript/\n",
      "/voter-education/debate-transcripts/october-11-1992-first-half-debate-transcript/\n",
      "/voter-education/debate-transcripts/september-26-2016-debate-transcript/\n",
      "/voter-education/debate-transcripts/october-3-2012-debate-transcript/\n",
      "/voter-education/debate-transcripts/2008-debate-transcript/\n",
      "/voter-education/debate-transcripts/september-30-2004-debate-transcript/\n",
      "/voter-education/debate-transcripts/october-3-2000-transcript/\n",
      "/voter-education/debate-transcripts/october-6-1996-debate-transcript/\n",
      "/voter-education/debate-transcripts/october-11-1992-first-half-debate-transcript/\n",
      "/voter-education/debate-transcripts/october-15-1992-first-half-debate-transcript/\n",
      "/voter-education/debate-transcripts/september-25-1988-debate-transcript/\n",
      "/voter-education/debate-transcripts/october-7-1984-debate-transcript/\n",
      "/voter-education/debate-transcripts/september-23-1976-debate-transcript/\n",
      "/voter-education/debate-transcripts/september-26-1960-debate-transcript/\n"
     ]
    }
   ],
   "source": [
    "import requests # HTTP library for getting and posting content etc.\n",
    "import bs4 as bs # We can query markup languages for specific content\n",
    "from collections import Counter\n",
    "import re\n",
    "import math\n",
    "import pandas as pd\n",
    "\n",
    "source=requests.get('https://www.debates.org/voter-education/debate-transcripts')\n",
    "soup= bs.BeautifulSoup(source.content, features='html.parser') \n",
    "\n",
    "year=['1988', '1984', '1976', '1960']\n",
    "links = soup.find_all('a')\n",
    "\n",
    "url=[]\n",
    "\n",
    "for l in links:\n",
    "    if \"First\" in l.text:\n",
    "        link=l.get('href')\n",
    "        print(link)\n",
    "        for i in year:\n",
    "            if i in link:\n",
    "                url.append(link)"
   ]
  },
  {
   "cell_type": "code",
   "execution_count": 2,
   "metadata": {},
   "outputs": [],
   "source": [
    "title_all=[]\n",
    "total=[]\n",
    "sum_1=[]\n",
    "most_word=[]\n",
    "most_num=[]\n",
    "\n",
    "for i in url:\n",
    "    source_new=requests.get('https://www.debates.org{}'.format(i))\n",
    "    soup_new= bs.BeautifulSoup(source_new.content, features='html.parser')\n",
    "# get the title for the dataframe \n",
    "    title_1=soup_new.find('strong').text\n",
    "    title_2=soup_new.find_all('p')[1].text\n",
    "    title=title_1+ ': '+ title_2\n",
    "    title_all.append(title)\n",
    "# count characters in the transcript\n",
    "    phrase = re.findall(r\"[a-zA-Z\\-]+\", soup_new.text.lower())\n",
    "    str = ' '.join(phrase)\n",
    "    total.append(len(str))\n",
    "# count how many time \"war\" shows up \n",
    "    counts = phrase.count(\"wars\")+phrase.count('war')+phrase.count('war.')\n",
    "    sum_1.append(counts)\n",
    "# most common used word in the debate\n",
    "    most =Counter(phrase).most_common(1)\n",
    "    most_word.append(most[0][0])\n",
    "# write how many times it was used\n",
    "    most_num.append(most[0][1])\n",
    "   "
   ]
  },
  {
   "cell_type": "code",
   "execution_count": 3,
   "metadata": {},
   "outputs": [
    {
     "data": {
      "text/html": [
       "<div>\n",
       "<style scoped>\n",
       "    .dataframe tbody tr th:only-of-type {\n",
       "        vertical-align: middle;\n",
       "    }\n",
       "\n",
       "    .dataframe tbody tr th {\n",
       "        vertical-align: top;\n",
       "    }\n",
       "\n",
       "    .dataframe thead th {\n",
       "        text-align: right;\n",
       "    }\n",
       "</style>\n",
       "<table border=\"1\" class=\"dataframe\">\n",
       "  <thead>\n",
       "    <tr style=\"text-align: right;\">\n",
       "      <th></th>\n",
       "      <th>September 25, 1988: The First Bush-Dukakis Presidential Debate</th>\n",
       "      <th>October 7, 1984: The First Reagan-Mondale Presidential Debate</th>\n",
       "      <th>September 23, 1976: The First Carter-Ford Presidential Debate</th>\n",
       "      <th>September 26, 1960: The First Kennedy-Nixon Presidential Debate</th>\n",
       "    </tr>\n",
       "  </thead>\n",
       "  <tbody>\n",
       "    <tr>\n",
       "      <th>Debate char length</th>\n",
       "      <td>87115</td>\n",
       "      <td>85262</td>\n",
       "      <td>79578</td>\n",
       "      <td>61162</td>\n",
       "    </tr>\n",
       "    <tr>\n",
       "      <th>War_count</th>\n",
       "      <td>11</td>\n",
       "      <td>3</td>\n",
       "      <td>7</td>\n",
       "      <td>3</td>\n",
       "    </tr>\n",
       "    <tr>\n",
       "      <th>Most_common_w</th>\n",
       "      <td>the</td>\n",
       "      <td>the</td>\n",
       "      <td>the</td>\n",
       "      <td>the</td>\n",
       "    </tr>\n",
       "    <tr>\n",
       "      <th>Most_common_w_count</th>\n",
       "      <td>802</td>\n",
       "      <td>868</td>\n",
       "      <td>857</td>\n",
       "      <td>780</td>\n",
       "    </tr>\n",
       "  </tbody>\n",
       "</table>\n",
       "</div>"
      ],
      "text/plain": [
       "                    September 25, 1988: The First Bush-Dukakis Presidential Debate  \\\n",
       "Debate char length                                               87115               \n",
       "War_count                                                           11               \n",
       "Most_common_w                                                      the               \n",
       "Most_common_w_count                                                802               \n",
       "\n",
       "                    October 7, 1984: The First Reagan-Mondale Presidential Debate  \\\n",
       "Debate char length                                               85262              \n",
       "War_count                                                            3              \n",
       "Most_common_w                                                      the              \n",
       "Most_common_w_count                                                868              \n",
       "\n",
       "                    September 23, 1976: The First Carter-Ford Presidential Debate  \\\n",
       "Debate char length                                               79578              \n",
       "War_count                                                            7              \n",
       "Most_common_w                                                      the              \n",
       "Most_common_w_count                                                857              \n",
       "\n",
       "                    September 26, 1960: The First Kennedy-Nixon Presidential Debate  \n",
       "Debate char length                                               61162               \n",
       "War_count                                                            3               \n",
       "Most_common_w                                                      the               \n",
       "Most_common_w_count                                                780               "
      ]
     },
     "execution_count": 3,
     "metadata": {},
     "output_type": "execute_result"
    }
   ],
   "source": [
    "df=pd.DataFrame([total,sum_1,most_word,most_num],columns=title_all,index=['Debate char length','War_count','Most_common_w','Most_common_w_count'])\n",
    "df"
   ]
  },
  {
   "cell_type": "markdown",
   "metadata": {},
   "source": [
    "    \n",
    "## 2. Download and read in specific line from many data sets\n",
    "\n",
    "Scrape the first 27 data sets from this URL http://people.sc.fsu.edu/~jburkardt/datasets/regression/ (i.e.`x01.txt` - `x27.txt`). Then, save the 5th line in each data set, this should be the name of the data set author (get rid of the `#` symbol, the white spaces and the comma at the end). \n",
    "\n",
    "Count how many times (with a Python function) each author is the reference for one of the 27 data sets. Showcase your results, sorted, with the most common author name first and how many times he appeared in data sets. Use a Pandas DataFrame to show your results, see example. **Print your final output result.**\n",
    "\n",
    "**Example output of the answer for Question 2:**\n",
    "\n",
    "![author_stats](https://github.com/ikhlaqsidhu/data-x/raw/master/x-archive/misc/hw2_imgs_spring2018/data_authors.png)\n"
   ]
  },
  {
   "cell_type": "code",
   "execution_count": 4,
   "metadata": {
    "scrolled": true
   },
   "outputs": [],
   "source": [
    "source=requests.get('http://people.sc.fsu.edu/~jburkardt/datasets/regression/')\n",
    "soup= bs.BeautifulSoup(source.content, features='html.parser') \n",
    "\n",
    "links=soup.find_all('a')\n",
    "url=[]\n",
    "for l in links:\n",
    "    if \"x\" in l.text:\n",
    "        link=l.get('href')\n",
    "        source_new='http://people.sc.fsu.edu/~jburkardt/datasets/regression/{}'.format(link)\n",
    "        url.append(source_new)"
   ]
  },
  {
   "cell_type": "code",
   "execution_count": 5,
   "metadata": {
    "scrolled": true
   },
   "outputs": [],
   "source": [
    "fifth=[]\n",
    "for i in url[0:27]:\n",
    "    source_new=requests.get(i)\n",
    "    soup_new= bs.BeautifulSoup(source_new.content, features='html.parser')\n",
    "    #rint(soup_new)\n",
    "    for line in soup_new:\n",
    "        content=line.split('\\n')\n",
    "        fifth.append((content[4]).strip('#').strip(' ').strip(','))\n",
    "word_fre=Counter(fifth).items()\n",
    "\n",
    "freq=[]\n",
    "name=[]\n",
    "for x in word_fre:\n",
    "        freq.append([x][0][1])\n",
    "        name.append([x][0][0])\n",
    "        \n",
    "    \n",
    "\n"
   ]
  },
  {
   "cell_type": "code",
   "execution_count": 6,
   "metadata": {
    "scrolled": true
   },
   "outputs": [
    {
     "data": {
      "text/html": [
       "<div>\n",
       "<style scoped>\n",
       "    .dataframe tbody tr th:only-of-type {\n",
       "        vertical-align: middle;\n",
       "    }\n",
       "\n",
       "    .dataframe tbody tr th {\n",
       "        vertical-align: top;\n",
       "    }\n",
       "\n",
       "    .dataframe thead th {\n",
       "        text-align: right;\n",
       "    }\n",
       "</style>\n",
       "<table border=\"1\" class=\"dataframe\">\n",
       "  <thead>\n",
       "    <tr style=\"text-align: right;\">\n",
       "      <th></th>\n",
       "      <th>Counts</th>\n",
       "    </tr>\n",
       "    <tr>\n",
       "      <th>Authors</th>\n",
       "      <th></th>\n",
       "    </tr>\n",
       "  </thead>\n",
       "  <tbody>\n",
       "    <tr>\n",
       "      <th>Helmut Spaeth</th>\n",
       "      <td>16</td>\n",
       "    </tr>\n",
       "    <tr>\n",
       "      <th>S Chatterjee, B Price</th>\n",
       "      <td>3</td>\n",
       "    </tr>\n",
       "    <tr>\n",
       "      <th>R J Freund and P D Minton</th>\n",
       "      <td>2</td>\n",
       "    </tr>\n",
       "    <tr>\n",
       "      <th>D G Kleinbaum and L L Kupper</th>\n",
       "      <td>2</td>\n",
       "    </tr>\n",
       "    <tr>\n",
       "      <th>S C Narula, J F Wellington</th>\n",
       "      <td>2</td>\n",
       "    </tr>\n",
       "    <tr>\n",
       "      <th>K A Brownlee</th>\n",
       "      <td>1</td>\n",
       "    </tr>\n",
       "    <tr>\n",
       "      <th>S Chatterjee and B Price</th>\n",
       "      <td>1</td>\n",
       "    </tr>\n",
       "  </tbody>\n",
       "</table>\n",
       "</div>"
      ],
      "text/plain": [
       "                             Counts\n",
       "Authors                            \n",
       "Helmut Spaeth                    16\n",
       "S Chatterjee, B Price             3\n",
       "R J Freund and P D Minton         2\n",
       "D G Kleinbaum and L L Kupper      2\n",
       "S C Narula, J F Wellington        2\n",
       "K A Brownlee                      1\n",
       "S Chatterjee and B Price          1"
      ]
     },
     "execution_count": 6,
     "metadata": {},
     "output_type": "execute_result"
    }
   ],
   "source": [
    "df=pd.DataFrame([name,freq]).transpose()\n",
    "df.columns=['Authors','Counts']\n",
    "df_final=df.sort_values(by='Counts',ascending=False)\n",
    "df_final.set_index('Authors')"
   ]
  },
  {
   "cell_type": "code",
   "execution_count": null,
   "metadata": {},
   "outputs": [],
   "source": []
  }
 ],
 "metadata": {
  "kernel_info": {
   "name": "data-x"
  },
  "kernelspec": {
   "display_name": "Python 3",
   "language": "python",
   "name": "python3"
  },
  "language_info": {
   "codemirror_mode": {
    "name": "ipython",
    "version": 3
   },
   "file_extension": ".py",
   "mimetype": "text/x-python",
   "name": "python",
   "nbconvert_exporter": "python",
   "pygments_lexer": "ipython3",
   "version": "3.7.1"
  },
  "nteract": {
   "version": "0.7.1"
  }
 },
 "nbformat": 4,
 "nbformat_minor": 2
}
